{
 "cells": [
  {
   "cell_type": "code",
   "execution_count": 100,
   "metadata": {},
   "outputs": [],
   "source": [
    "coor = []\n",
    "with open('tsp.txt') as f:\n",
    "    n = int(f.readline())\n",
    "    for x in f:\n",
    "        a,b = [float(y) for y in x.split()]\n",
    "        coor.append([a,b])"
   ]
  },
  {
   "cell_type": "code",
   "execution_count": 101,
   "metadata": {},
   "outputs": [
    {
     "name": "stdout",
     "output_type": "stream",
     "text": [
      "[[20833.3333, 17100.0], [20900.0, 17066.6667], [21300.0, 13016.6667], [21600.0, 14150.0], [21600.0, 14966.6667], [21600.0, 16500.0], [22183.3333, 13133.3333], [22583.3333, 14300.0], [22683.3333, 12716.6667], [23616.6667, 15866.6667], [23700.0, 15933.3333], [23883.3333, 14533.3333], [24166.6667, 13250.0], [25149.1667, 12365.8333], [26133.3333, 14500.0], [26150.0, 10550.0], [26283.3333, 12766.6667], [26433.3333, 13433.3333], [26550.0, 13850.0], [26733.3333, 11683.3333], [27026.1111, 13051.9444], [27096.1111, 13415.8333], [27153.6111, 13203.3333], [27166.6667, 9833.3333], [27233.3333, 10450.0]]\n"
     ]
    }
   ],
   "source": [
    "print(coor)"
   ]
  },
  {
   "cell_type": "code",
   "execution_count": 102,
   "metadata": {},
   "outputs": [],
   "source": [
    "graph = {}\n",
    "\n",
    "for i in range(0,25):\n",
    "    graph[i] = []\n",
    "    for j in range(0,25):\n",
    "        y= (((coor[i][0]- coor[j][0])**2) +  ((coor[i][1]- coor[j][1])**2))**(1/2)\n",
    "        \n",
    "        graph[i].append([j,y])\n",
    "\n"
   ]
  },
  {
   "cell_type": "code",
   "execution_count": 99,
   "metadata": {
    "collapsed": true
   },
   "outputs": [],
   "source": [
    "import tsp"
   ]
  },
  {
   "cell_type": "code",
   "execution_count": 103,
   "metadata": {},
   "outputs": [],
   "source": [
    "g = []\n",
    "for i in graph:\n",
    "    l = []\n",
    "    for j in graph[i]:\n",
    "        l.append(j[1])\n",
    "    g.append(l)\n"
   ]
  },
  {
   "cell_type": "code",
   "execution_count": 97,
   "metadata": {},
   "outputs": [],
   "source": [
    "INT_MAX = 100000000000\n",
    "def size(int_type):\n",
    "    length = 0\n",
    "    count = 0\n",
    "    while (int_type):\n",
    "        count += (int_type & 1)\n",
    "        length += 1\n",
    "        int_type >>= 1\n",
    "    return count\n",
    "def length(int_type):\n",
    "    length = 0\n",
    "    count = 0\n",
    "    while (int_type):\n",
    "        count += (int_type & 1)\n",
    "        length += 1\n",
    "        int_type >>= 1\n",
    "    return length\n",
    "\n",
    "def inSubset(i, s):\n",
    "    while i > 0 and s > 0:\n",
    "        s = s >> 1\n",
    "        i -= 1\n",
    "    cond = s & 1\n",
    "    return cond\n",
    "\n",
    "def subsets():\n",
    "    sub = []\n",
    "    for i in range(2**25):\n",
    "        sub.append(i)\n",
    "    return sorted(l,key= lambda x :size(int(x)))\n",
    "\n",
    "def remove(i, s):\n",
    "    x = 1\n",
    "    x = x << i\n",
    "    l = length(s)\n",
    "    l = 2 ** l - 1\n",
    "    x = x ^ l\n",
    "    return x & s\n",
    "\n",
    "def TSP():\n",
    "    sub = subsets()\n",
    "    cost = [[-1 for t in range(25)] for s in sub]\n",
    "    p =  [[-1 for t in range(25)] for s in sub]\n",
    "    count = 1\n",
    "    total = len(sub)\n",
    "    \n",
    "    for s in sub:\n",
    "        for dest in range(25):\n",
    "            if not size(int(s)):\n",
    "                cost[int(s)][dest] = g[0][dest]\n",
    "            elif (not inSubset(0,int(s))) and (not inSubset(dest,int(s))):\n",
    "                m = INT_MAX\n",
    "                for i in range(25):\n",
    "                    if inSubset(i,int(s)):\n",
    "                        newsub = remove(i,int(s))\n",
    "                        print(newsub,i,dest)\n",
    "                        val = g[i][dest]+cost[newsub][i]\n",
    "                        \n",
    "                        if val < m:\n",
    "                            m = val\n",
    "                            p[s][dest] = i\n",
    "                if m != INT_MAX:  #yaad rakhna ise\n",
    "                    cost[s][dest] = m\n",
    "        count = count +1\n",
    "    print(cost[2**n-2][0])\n",
    "                    "
   ]
  },
  {
   "cell_type": "code",
   "execution_count": 105,
   "metadata": {},
   "outputs": [
    {
     "name": "stdout",
     "output_type": "stream",
     "text": [
      "(102395.07624071604, [0, 1, 5, 4, 3, 2, 6, 8, 12, 13, 15, 23, 24, 19, 20, 22, 21, 16, 17, 18, 14, 11, 7, 9, 10])\n"
     ]
    }
   ],
   "source": [
    "print(tsp.tsp(g))"
   ]
  },
  {
   "cell_type": "code",
   "execution_count": null,
   "metadata": {
    "collapsed": true
   },
   "outputs": [],
   "source": []
  }
 ],
 "metadata": {
  "kernelspec": {
   "display_name": "Python 3",
   "language": "python",
   "name": "python3"
  },
  "language_info": {
   "codemirror_mode": {
    "name": "ipython",
    "version": 3
   },
   "file_extension": ".py",
   "mimetype": "text/x-python",
   "name": "python",
   "nbconvert_exporter": "python",
   "pygments_lexer": "ipython3",
   "version": "3.6.1"
  }
 },
 "nbformat": 4,
 "nbformat_minor": 2
}
