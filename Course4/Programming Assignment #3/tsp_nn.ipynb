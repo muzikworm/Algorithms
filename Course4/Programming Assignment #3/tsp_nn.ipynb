{
 "cells": [
  {
   "cell_type": "code",
   "execution_count": 94,
   "metadata": {
    "collapsed": true
   },
   "outputs": [],
   "source": [
    "#tsp using nearest neighbor\n",
    "coor = {}\n",
    "citycheck = []\n",
    "with open('nn.txt') as f:\n",
    "    n = int(f.readline())\n",
    "    for x in f:\n",
    "        a,b,c = [float(y) for y in x.split()]\n",
    "        coor [int(a)] = [b,c]"
   ]
  },
  {
   "cell_type": "code",
   "execution_count": 95,
   "metadata": {},
   "outputs": [
    {
     "name": "stdout",
     "output_type": "stream",
     "text": [
      "9983.3333\n"
     ]
    }
   ],
   "source": [
    "print(coor[1][0])"
   ]
  },
  {
   "cell_type": "code",
   "execution_count": 96,
   "metadata": {
    "collapsed": true
   },
   "outputs": [],
   "source": [
    "cityCounter = 0\n",
    "citycheck = [0]*(n+1)\n",
    "citycheck[0] = -1\n",
    "citycheck[1] = 1\n",
    "cityCounter += 1\n",
    "currentcity = 1\n",
    "distance = 0.0\n",
    "flag = 1"
   ]
  },
  {
   "cell_type": "code",
   "execution_count": 97,
   "metadata": {
    "collapsed": true
   },
   "outputs": [],
   "source": [
    "def calculateDistance(a,b):\n",
    "    return( (((coor[a][0]- coor[b][0])**2) +  ((coor[a][1]- coor[b][1])**2))**(0.5))"
   ]
  },
  {
   "cell_type": "code",
   "execution_count": 98,
   "metadata": {
    "collapsed": true
   },
   "outputs": [],
   "source": [
    "def findClosestCity(citynow,cityCounter):  #cityset : {[number,distance]}\n",
    "    cityset = {}\n",
    "    for i in range(1,(n+1)):\n",
    "        cityset[i] = [i,calculateDistance(citynow,i)]\n",
    "        \n",
    "    cityset_sorted = sorted(cityset.items(),key = lambda x: x[1][1])\n",
    "\n",
    "    \n",
    "    temp = 2\n",
    "    while(citycheck[cityset_sorted[temp][0]] > 0):\n",
    "        temp += 1\n",
    "    tempcity = cityset_sorted[temp][0]\n",
    "    tempdistance = cityset_sorted[temp][1][1]\n",
    "    finalptr = temp\n",
    "    \n",
    "    while(tempdistance == cityset_sorted[temp + 1][1][1]):\n",
    "        if (tempcity > cityset_sorted[temp +1][0] and citycheck[cityset_sorted[temp+1]][0]==0):\n",
    "            tempcity = cityset_sorted[temp+1][0]\n",
    "            finalptr = temp +1\n",
    "        temp +=1\n",
    "    cityCounter += 1\n",
    "    citycheck[cityset_sorted[finalptr][0]] = cityCounter\n",
    "    \n",
    "    return cityset_sorted[finalptr][0],cityset_sorted[finalptr][1]\n",
    "        "
   ]
  },
  {
   "cell_type": "code",
   "execution_count": 99,
   "metadata": {
    "collapsed": true,
    "scrolled": true
   },
   "outputs": [],
   "source": [
    "for i in range(2,(n+1)):\n",
    "    cityTemp = findClosestCity(currentcity,cityCounter)\n",
    "    #print(cityTemp)\n",
    "    cityCounter += 1\n",
    "    currentcity = cityTemp[0]\n",
    "    distance += cityTemp[1][1]\n",
    "distance += calculateDistance(currentcity,1)"
   ]
  },
  {
   "cell_type": "code",
   "execution_count": 110,
   "metadata": {},
   "outputs": [
    {
     "name": "stdout",
     "output_type": "stream",
     "text": [
      "1203406.501271\n"
     ]
    }
   ],
   "source": [
    "print(distanc)"
   ]
  },
  {
   "cell_type": "code",
   "execution_count": null,
   "metadata": {
    "collapsed": true
   },
   "outputs": [],
   "source": []
  }
 ],
 "metadata": {
  "kernelspec": {
   "display_name": "Python 3",
   "language": "python",
   "name": "python3"
  },
  "language_info": {
   "codemirror_mode": {
    "name": "ipython",
    "version": 3
   },
   "file_extension": ".py",
   "mimetype": "text/x-python",
   "name": "python",
   "nbconvert_exporter": "python",
   "pygments_lexer": "ipython3",
   "version": "3.6.1"
  }
 },
 "nbformat": 4,
 "nbformat_minor": 2
}
