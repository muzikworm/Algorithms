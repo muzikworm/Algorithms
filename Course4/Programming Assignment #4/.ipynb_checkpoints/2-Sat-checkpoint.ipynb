{
 "cells": [
  {
   "cell_type": "code",
   "execution_count": 118,
   "metadata": {
    "collapsed": true
   },
   "outputs": [],
   "source": [
    "graph = {}\n",
    "graph_rev = {}\n",
    "vertices = 0\n"
   ]
  },
  {
   "cell_type": "code",
   "execution_count": 119,
   "metadata": {
    "collapsed": true
   },
   "outputs": [],
   "source": [
    "def add_edge(g,u,v):\n",
    "    if u in g:\n",
    "        g[u].append(v)\n",
    "    else:\n",
    "        g[u] = [v]\n",
    "        "
   ]
  },
  {
   "cell_type": "code",
   "execution_count": 120,
   "metadata": {
    "collapsed": true
   },
   "outputs": [],
   "source": [
    "with open('2sat6.txt') as f:\n",
    "    vertices= int(f.readline())\n",
    "    for x in f:\n",
    "        c,d = [int(y) for y in x.split()]\n",
    "        u = int(c)\n",
    "        v = int(d)\n",
    "\n",
    "        #adding an edge\n",
    "\n",
    "        if ( u > 0 and v > 0):\n",
    "            # -u  v\n",
    "            add_edge(graph,(u+vertices),v)\n",
    "            add_edge(graph_rev,v,(u+vertices))\n",
    "            add_edge(graph,(v+vertices),u)\n",
    "            add_edge(graph_rev,u,(v+vertices))  \n",
    "\n",
    "        elif ( u < 0 and v > 0):\n",
    "            # u  v\n",
    "            u = u*(-1)\n",
    "            add_edge(graph,u,v)\n",
    "            add_edge(graph_rev,v,u)\n",
    "            add_edge(graph,(v+vertices),(u+vertices))\n",
    "            add_edge(graph_rev,(u+vertices),(v+vertices)) \n",
    "\n",
    "        elif (u > 0 and v < 0):\n",
    "            v = v*(-1)\n",
    "            add_edge(graph,(u+vertices),(v+vertices))\n",
    "            add_edge(graph_rev,(v+vertices),(u+vertices)) \n",
    "            add_edge(graph,v,u)\n",
    "            add_edge(graph_rev,u,v)\n",
    "        elif u < 0 and v < 0:\n",
    "            u = u * (-1)\n",
    "            v = v * (-1)\n",
    "            add_edge(graph,u,(v+vertices))\n",
    "            add_edge(graph_rev,(v+vertices),u) \n",
    "            add_edge(graph,v,(u+ vertices))\n",
    "            add_edge(graph_rev,(u+vertices),v)\n"
   ]
  },
  {
   "cell_type": "code",
   "execution_count": 121,
   "metadata": {
    "collapsed": true
   },
   "outputs": [],
   "source": [
    "for i in range((2*vertices)):\n",
    "    if i not in graph:\n",
    "        graph[i] = []\n",
    "    if i not in graph_rev:\n",
    "        graph_rev[i] = []"
   ]
  },
  {
   "cell_type": "code",
   "execution_count": 122,
   "metadata": {
    "collapsed": true
   },
   "outputs": [],
   "source": [
    "def DFS(v,visited,cc):\n",
    "    stack=[v]\n",
    "    while len(stack) != 0:\n",
    "        s = stack.pop()\n",
    "        if visited[s] == 0:\n",
    "            #print(s)\n",
    "            cc.append(s)\n",
    "            visited[s] = 1\n",
    "        if graph_rev[s] != []:\n",
    "            for t in graph_rev[s]:\n",
    "                if visited[t] == 0:\n",
    "                    stack.append(t)\n",
    "    #print(cc)\n",
    "        "
   ]
  },
  {
   "cell_type": "code",
   "execution_count": 123,
   "metadata": {
    "collapsed": true
   },
   "outputs": [],
   "source": [
    "def fill_order(v,visited,st):\n",
    "    stack=[v]\n",
    "    st.append(v)\n",
    "    while len(stack) != 0:\n",
    "        s = stack.pop()\n",
    "        if visited[s] == 0:\n",
    "            #print(s)\n",
    "            visited[s] = 1\n",
    "        if graph[s] != []:\n",
    "            for t in graph[s]:\n",
    "                if visited[t] == 0:\n",
    "                    stack.append(t)\n",
    "                    st.append(t)"
   ]
  },
  {
   "cell_type": "code",
   "execution_count": 124,
   "metadata": {
    "collapsed": true
   },
   "outputs": [],
   "source": [
    "def scc_func():\n",
    "    s = []\n",
    "    visited = [0]*((2*vertices)+1)\n",
    "    for i in graph.keys():\n",
    "        if visited[i] == 0:\n",
    "            fill_order(i,visited,s)\n",
    "    visited = [0]*((2*vertices)+1)\n",
    "    \n",
    "    #print(len(s))\n",
    "    cc_size =[]\n",
    "    while len(s)!= 0:\n",
    "        ver = s.pop()\n",
    "        cc = []\n",
    "        if visited[ver] == 0:\n",
    "            DFS(ver,visited,cc)\n",
    "        #print(cc)\n",
    "        cc_size.append(len(cc))\n",
    "    return cc_size"
   ]
  },
  {
   "cell_type": "code",
   "execution_count": 125,
   "metadata": {},
   "outputs": [
    {
     "name": "stdout",
     "output_type": "stream",
     "text": [
      "unstaisfiable\n"
     ]
    }
   ],
   "source": [
    "#just change file names and run\n",
    "scc= scc_func()\n",
    "for i in range(0,vertices):\n",
    "    if(scc[i] == scc[i+vertices]):\n",
    "        print(\"unstaisfiable\")\n",
    "        break"
   ]
  }
 ],
 "metadata": {
  "kernelspec": {
   "display_name": "Python 3",
   "language": "python",
   "name": "python3"
  },
  "language_info": {
   "codemirror_mode": {
    "name": "ipython",
    "version": 3
   },
   "file_extension": ".py",
   "mimetype": "text/x-python",
   "name": "python",
   "nbconvert_exporter": "python",
   "pygments_lexer": "ipython3",
   "version": "3.6.1"
  }
 },
 "nbformat": 4,
 "nbformat_minor": 2
}
