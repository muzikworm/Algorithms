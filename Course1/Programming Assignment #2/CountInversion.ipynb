{
 "cells": [
  {
   "cell_type": "code",
   "execution_count": 241,
   "metadata": {
    "collapsed": true
   },
   "outputs": [],
   "source": [
    "def merge(arr, l, m, r):\n",
    "\n",
    "    count = 0\n",
    "    l = int(l)\n",
    "    m = int(m)\n",
    "    r = int(r)\n",
    "    size1 = int(m-l+1)\n",
    "    size2 = int(r-m)\n",
    "\n",
    "    arr1 = [0]*(size1)\n",
    "    arr2 = [0]*(size2)\n",
    "    \n",
    "    for i in range(size1):\n",
    "        arr1[i] = arr[l+i]\n",
    "    for i in range(size2):\n",
    "        arr2[i]=arr[m+1+i]\n",
    "    i =0\n",
    "    j=0\n",
    "    k= l\n",
    "    #print(l,m,r)\n",
    "    #print(arr1,arr2)\n",
    "    while(i < size1 and j<size2):\n",
    "        if arr1[i] <= arr2[j]:\n",
    "            arr[k] = arr1[i]\n",
    "            i = i+1\n",
    "        else:\n",
    "            arr[k] = arr2[j]\n",
    "            j=j+1\n",
    "            count =count + int(((r-l+1)/2)-i)\n",
    "        k = k+ 1\n",
    "        \n",
    "    while i< size1:\n",
    "        arr[k] = arr1[i]\n",
    "        i= i+1\n",
    "        k= k+1\n",
    "        \n",
    "    while j< size2:\n",
    "        arr[k] = arr2[j]\n",
    "        j= j+1\n",
    "        k= k+1\n",
    "    #print(count , \"count\")\n",
    "    return(count)"
   ]
  },
  {
   "cell_type": "code",
   "execution_count": 242,
   "metadata": {
    "collapsed": true
   },
   "outputs": [],
   "source": [
    "def mergesort(a,l,r):\n",
    "    count =0\n",
    "    if l < r:\n",
    "        m = int((l+(r-1))/2)\n",
    "\n",
    "        count = mergesort(a, l, m)\n",
    "        count +=mergesort(a, m+1, r)\n",
    "        count +=merge(a, l, m, r)\n",
    "        \n",
    "    return (count)"
   ]
  },
  {
   "cell_type": "code",
   "execution_count": 243,
   "metadata": {
    "collapsed": true
   },
   "outputs": [],
   "source": [
    "a = []\n",
    "with open('IntegerArray.txt') as F:\n",
    "    for x in F:\n",
    "        a.append(int(x))"
   ]
  },
  {
   "cell_type": "code",
   "execution_count": 248,
   "metadata": {},
   "outputs": [
    {
     "data": {
      "text/plain": [
       "2407905288"
      ]
     },
     "execution_count": 248,
     "metadata": {},
     "output_type": "execute_result"
    }
   ],
   "source": [
    "l = len(a)-1\n",
    "mergesort(a,0,l)"
   ]
  },
  {
   "cell_type": "code",
   "execution_count": null,
   "metadata": {
    "collapsed": true
   },
   "outputs": [],
   "source": []
  }
 ],
 "metadata": {
  "kernelspec": {
   "display_name": "Python 3",
   "language": "python",
   "name": "python3"
  },
  "language_info": {
   "codemirror_mode": {
    "name": "ipython",
    "version": 3
   },
   "file_extension": ".py",
   "mimetype": "text/x-python",
   "name": "python",
   "nbconvert_exporter": "python",
   "pygments_lexer": "ipython3",
   "version": "3.6.1"
  }
 },
 "nbformat": 4,
 "nbformat_minor": 2
}
