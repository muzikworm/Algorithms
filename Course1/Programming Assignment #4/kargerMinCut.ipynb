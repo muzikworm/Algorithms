{
 "cells": [
  {
   "cell_type": "code",
   "execution_count": 130,
   "metadata": {},
   "outputs": [],
   "source": [
    "#Create graph from file\n",
    "graph = {}\n",
    "\n",
    "with open('kargerMinCut.txt') as f:\n",
    "    for line in f:\n",
    "        value=[]\n",
    "        for x in line.split():\n",
    "            value.append(int(x))\n",
    "        graph[value[0]] = value[1:]\n",
    "        \n",
    "#print(graph)\n",
    "\n"
   ]
  },
  {
   "cell_type": "code",
   "execution_count": 131,
   "metadata": {},
   "outputs": [],
   "source": [
    "#count edges\n",
    "total_edges = 0\n",
    "for x in graph:\n",
    "    #print(graph[x])\n",
    "    total_edges += int(len(graph[x]))\n",
    "    #print(total_edges)\n",
    "    "
   ]
  },
  {
   "cell_type": "code",
   "execution_count": 132,
   "metadata": {},
   "outputs": [],
   "source": [
    "#find random edge\n",
    "#0indexed\n",
    "def find_edge(i):\n",
    "    v1 = 0\n",
    "    v2 = 0\n",
    "    for x in graph:\n",
    "        l = len(graph[x])\n",
    "        #print(l)\n",
    "        if i < l :\n",
    "            v1 = x;\n",
    "            t=graph[x]\n",
    "            v2 =  t[i]\n",
    "            return v1,v2\n",
    "        i= i-l\n",
    "        l = l+len(graph[x])\n",
    "    return v1,v2\n",
    "    "
   ]
  },
  {
   "cell_type": "code",
   "execution_count": 148,
   "metadata": {},
   "outputs": [],
   "source": [
    "#kargerMinCut function\n",
    "\n",
    "def karger(total_edges):\n",
    "    min_cut = 0\n",
    "    while(len(graph) > 2) :\n",
    "        #find random edge\n",
    "        #print(total_edges)\n",
    "        e = randint(0,(total_edges-1))\n",
    "        v1,v2 = find_edge(e)\n",
    "        #print(e,v1,v2)\n",
    "        total_edges = total_edges - len(graph[v1]) - len(graph[v2])\n",
    "        graph[v1].extend(graph[v2])\n",
    "        \n",
    "        for v in graph[v2]:\n",
    "            print(graph[v])\n",
    "            graph[v].remove(v2)\n",
    "            graph[v].append(v1)\n",
    "            \n",
    "        graph[v1] = list(filter(lambda v: v != v1, graph[v1]))\n",
    "        total_edges += len(graph[v1])\n",
    "        graph.pop(v2)\n",
    "    for x in graph:\n",
    "        min_cut += int(len(graph[x]))\n",
    "    return min_cut"
   ]
  },
  {
   "cell_type": "code",
   "execution_count": 154,
   "metadata": {},
   "outputs": [
    {
     "name": "stdout",
     "output_type": "stream",
     "text": [
      "35\n",
      "20\n",
      "20\n",
      "20\n",
      "20\n",
      "20\n",
      "17\n",
      "17\n",
      "17\n",
      "17\n",
      "17\n",
      "17\n",
      "17\n",
      "17\n",
      "17\n",
      "17\n",
      "17\n",
      "17\n",
      "17\n",
      "17\n"
     ]
    }
   ],
   "source": [
    "for i in range(20):\n",
    "    print(karger(total_edges))"
   ]
  },
  {
   "cell_type": "code",
   "execution_count": null,
   "metadata": {
    "collapsed": true
   },
   "outputs": [],
   "source": []
  },
  {
   "cell_type": "code",
   "execution_count": null,
   "metadata": {
    "collapsed": true
   },
   "outputs": [],
   "source": []
  }
 ],
 "metadata": {
  "kernelspec": {
   "display_name": "Python 3",
   "language": "python",
   "name": "python3"
  },
  "language_info": {
   "codemirror_mode": {
    "name": "ipython",
    "version": 3
   },
   "file_extension": ".py",
   "mimetype": "text/x-python",
   "name": "python",
   "nbconvert_exporter": "python",
   "pygments_lexer": "ipython3",
   "version": "3.6.1"
  }
 },
 "nbformat": 4,
 "nbformat_minor": 2
}
