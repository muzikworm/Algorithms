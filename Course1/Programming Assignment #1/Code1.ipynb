{
 "cells": [
  {
   "cell_type": "code",
   "execution_count": 22,
   "metadata": {
    "collapsed": true
   },
   "outputs": [],
   "source": [
    "a = '3141592653589793238462643383279502884197169399375105820974944592'\n",
    "b = '2718281828459045235360287471352662497757247093699959574966967627'\n",
    "\n",
    "#a= '100000'\n",
    "#b = '100000'"
   ]
  },
  {
   "cell_type": "code",
   "execution_count": 23,
   "metadata": {
    "collapsed": true
   },
   "outputs": [],
   "source": [
    "def karatsuba_multiplication(a,b):\n",
    "    a  = str(a)\n",
    "    b  = str(b)\n",
    "    if int(a) < 10 or int(b) < 10 :\n",
    "        return int(a) * int(b)\n",
    "    \n",
    "    l = len(a)\n",
    "    mid = int(l/2)\n",
    "\n",
    "    a1 = int(a[mid:])\n",
    "    a2 = int(a[:mid])\n",
    "    b1 = int(b[mid:])\n",
    "    b2 = int(b[:mid])\n",
    "    \n",
    "    z0 = karatsuba_multiplication(a1,b1)\n",
    "    z1 = karatsuba_multiplication(a1+a2,b1+b2)\n",
    "    z2 = karatsuba_multiplication(a2,b2)\n",
    "    \n",
    "    return (z2*10**(2*mid)) + ((z1-z2-z0)*10**(mid))+z0\n",
    "    "
   ]
  },
  {
   "cell_type": "code",
   "execution_count": 24,
   "metadata": {},
   "outputs": [
    {
     "data": {
      "text/plain": [
       "8539652321675832064070914143628131255454110905886587801080672457595354270327774185782134230228918749614504090017825207096219904"
      ]
     },
     "execution_count": 24,
     "metadata": {},
     "output_type": "execute_result"
    }
   ],
   "source": [
    "karatsuba_multiplication(a,b)"
   ]
  },
  {
   "cell_type": "code",
   "execution_count": null,
   "metadata": {
    "collapsed": true
   },
   "outputs": [],
   "source": []
  }
 ],
 "metadata": {
  "kernelspec": {
   "display_name": "Python 3",
   "language": "python",
   "name": "python3"
  },
  "language_info": {
   "codemirror_mode": {
    "name": "ipython",
    "version": 3
   },
   "file_extension": ".py",
   "mimetype": "text/x-python",
   "name": "python",
   "nbconvert_exporter": "python",
   "pygments_lexer": "ipython3",
   "version": "3.6.1"
  }
 },
 "nbformat": 4,
 "nbformat_minor": 2
}
