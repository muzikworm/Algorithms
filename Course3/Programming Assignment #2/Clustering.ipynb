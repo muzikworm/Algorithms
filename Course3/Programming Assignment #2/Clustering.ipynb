{
 "cells": [
  {
   "cell_type": "code",
   "execution_count": 51,
   "metadata": {
    "collapsed": true
   },
   "outputs": [],
   "source": [
    "edges = [map(int, x.split(' ')) for x in open('clustering1.txt', 'r').read().split('\\n')[1:-1]]"
   ]
  },
  {
   "cell_type": "code",
   "execution_count": 52,
   "metadata": {},
   "outputs": [
    {
     "name": "stdout",
     "output_type": "stream",
     "text": [
      "[1, 2, 6808]\n"
     ]
    }
   ],
   "source": [
    "print(list(edges[0]))"
   ]
  },
  {
   "cell_type": "code",
   "execution_count": 53,
   "metadata": {},
   "outputs": [],
   "source": [
    "edges = {}\n",
    "i=0\n",
    "with open('clustering1.txt') as f:\n",
    "    n = f.readline()\n",
    "    for x in f:\n",
    "        a,b,c, = x.split()\n",
    "        l = [int(a),int(b),int(c)]\n",
    "        edges[i] =  l\n",
    "        i = i+1\n",
    "        \n",
    "        "
   ]
  },
  {
   "cell_type": "code",
   "execution_count": 54,
   "metadata": {},
   "outputs": [],
   "source": [
    "edges = sorted(edges.items(),key = lambda x : x[1][2])"
   ]
  },
  {
   "cell_type": "code",
   "execution_count": 55,
   "metadata": {},
   "outputs": [],
   "source": [
    "vertices = {}\n",
    "for edge in edges:\n",
    "    #print(edge[1][0])\n",
    "    vertices[edge[1][0]] = edge[1][0]\n",
    "    vertices[edge[1][1]] = edge[1][1]"
   ]
  },
  {
   "cell_type": "code",
   "execution_count": 56,
   "metadata": {
    "collapsed": true
   },
   "outputs": [],
   "source": [
    "cost = {}\n",
    "for v in vertices:\n",
    "    cost[v] = 0\n",
    "    "
   ]
  },
  {
   "cell_type": "code",
   "execution_count": 57,
   "metadata": {
    "collapsed": true
   },
   "outputs": [],
   "source": [
    "count = len(vertices) #maximum clusters possible"
   ]
  },
  {
   "cell_type": "code",
   "execution_count": 58,
   "metadata": {},
   "outputs": [
    {
     "name": "stdout",
     "output_type": "stream",
     "text": [
      "106\n"
     ]
    }
   ],
   "source": [
    "for edge in edges:\n",
    "    x = vertices[edge[1][0]]\n",
    "    while vertices[x] != x:\n",
    "        x = vertices[x]\n",
    "    y = vertices[edge[1][1]]\n",
    "    while vertices[y] != y:\n",
    "        y = vertices[y]\n",
    "    if x != y:\n",
    "        if count <= 4:\n",
    "            spacing = edge[1][2]\n",
    "            break\n",
    "        vertices[y] = x\n",
    "        cost[x] += edge[1][2] + cost[y]\n",
    "        count -= 1\n",
    "print (spacing)"
   ]
  },
  {
   "cell_type": "code",
   "execution_count": null,
   "metadata": {
    "collapsed": true
   },
   "outputs": [],
   "source": []
  }
 ],
 "metadata": {
  "kernelspec": {
   "display_name": "Python 3",
   "language": "python",
   "name": "python3"
  },
  "language_info": {
   "codemirror_mode": {
    "name": "ipython",
    "version": 3
   },
   "file_extension": ".py",
   "mimetype": "text/x-python",
   "name": "python",
   "nbconvert_exporter": "python",
   "pygments_lexer": "ipython3",
   "version": "3.6.1"
  }
 },
 "nbformat": 4,
 "nbformat_minor": 2
}
