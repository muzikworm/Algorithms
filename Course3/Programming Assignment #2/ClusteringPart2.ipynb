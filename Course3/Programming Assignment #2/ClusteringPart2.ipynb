{
 "cells": [
  {
   "cell_type": "code",
   "execution_count": 31,
   "metadata": {
    "collapsed": true
   },
   "outputs": [],
   "source": [
    "vertices = []\n",
    "with open('clustering_big.txt') as f:\n",
    "    a,b = f.readline().split()\n",
    "    n =int(a)\n",
    "    bit = int(b)\n",
    "    for x in f:\n",
    "        vertices.append(\"\".join(x.split()))\n"
   ]
  },
  {
   "cell_type": "code",
   "execution_count": 32,
   "metadata": {},
   "outputs": [
    {
     "name": "stdout",
     "output_type": "stream",
     "text": [
      "<class 'str'>\n",
      "<class 'str'>\n",
      "<class 'str'>\n",
      "<class 'str'>\n",
      "<class 'str'>\n",
      "<class 'str'>\n",
      "<class 'str'>\n",
      "<class 'str'>\n",
      "<class 'str'>\n",
      "<class 'str'>\n"
     ]
    }
   ],
   "source": [
    "for i in range(10):\n",
    "    print(type(vertices[i]))"
   ]
  },
  {
   "cell_type": "code",
   "execution_count": 33,
   "metadata": {
    "collapsed": true
   },
   "outputs": [],
   "source": [
    "head ={}"
   ]
  },
  {
   "cell_type": "code",
   "execution_count": 34,
   "metadata": {},
   "outputs": [],
   "source": [
    "p= lambda x : '1' if x == '0' else '0' "
   ]
  },
  {
   "cell_type": "code",
   "execution_count": 35,
   "metadata": {},
   "outputs": [],
   "source": [
    "for x in vertices:\n",
    "    head[x] = x\n",
    "cluster = len(head)\n",
    "for x in vertices:\n",
    "    h = head[x]\n",
    "    while head[h] != h:\n",
    "        h = head[h]\n",
    "    same = []\n",
    "    for i in range(len(x)):\n",
    "        same.append(x[:i]+p(x[i]) + x[i+1:])\n",
    "        for j in range(i+1, len(x)):\n",
    "            same.append(x[:i]+p(x[i])+x[i+1:j]+p(x[j])+x[j+1:])\n",
    "            \n",
    "    for t in same:\n",
    "        if head.get(t):\n",
    "            r = head[t]\n",
    "            while head[r] != r:\n",
    "                r = head[r]\n",
    "            if h != r:\n",
    "                head[r] = h\n",
    "                cluster -= 1"
   ]
  },
  {
   "cell_type": "code",
   "execution_count": 36,
   "metadata": {},
   "outputs": [
    {
     "name": "stdout",
     "output_type": "stream",
     "text": [
      "6118\n"
     ]
    }
   ],
   "source": [
    "print(cluster)"
   ]
  },
  {
   "cell_type": "code",
   "execution_count": null,
   "metadata": {
    "collapsed": true
   },
   "outputs": [],
   "source": []
  }
 ],
 "metadata": {
  "kernelspec": {
   "display_name": "Python 3",
   "language": "python",
   "name": "python3"
  },
  "language_info": {
   "codemirror_mode": {
    "name": "ipython",
    "version": 3
   },
   "file_extension": ".py",
   "mimetype": "text/x-python",
   "name": "python",
   "nbconvert_exporter": "python",
   "pygments_lexer": "ipython3",
   "version": "3.6.1"
  }
 },
 "nbformat": 4,
 "nbformat_minor": 2
}
