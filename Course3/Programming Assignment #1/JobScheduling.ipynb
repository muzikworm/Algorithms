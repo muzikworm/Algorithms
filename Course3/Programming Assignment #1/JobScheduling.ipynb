{
 "cells": [
  {
   "cell_type": "code",
   "execution_count": 66,
   "metadata": {},
   "outputs": [
    {
     "name": "stdout",
     "output_type": "stream",
     "text": [
      "10000\n"
     ]
    }
   ],
   "source": [
    "class job(object):\n",
    "    def __init__(self, weight=None, length=None, score=None,cumlength = None,w_into_cumlength = None):\n",
    "        self.weight = weight\n",
    "        self.length = length\n",
    "        self.score = score\n",
    "        self.cumlength = cumlength\n",
    "        self.w_into_cumlength = w_into_cumlength\n",
    "    \n",
    "n=0\n",
    "jobs=[]\n",
    "i = 0\n",
    "with open('jobs.txt') as f:\n",
    "    n= int(f.readline())\n",
    "    for x in f:\n",
    "        c,d = x.split()\n",
    "        w = int(c)\n",
    "        l = int(d)\n",
    "        jobs.append(job(w,l,w-l,0,0))\n",
    "\n",
    "        \n",
    "        \n",
    "print(n)"
   ]
  },
  {
   "cell_type": "code",
   "execution_count": 67,
   "metadata": {},
   "outputs": [],
   "source": [
    "#SORT ON THE BASIS OF SCORE then weight\n",
    "\n",
    "jobs_sorted = sorted(jobs,key=lambda j: [j.score,j.weight], reverse=True)\n"
   ]
  },
  {
   "cell_type": "code",
   "execution_count": 68,
   "metadata": {},
   "outputs": [],
   "source": [
    "#calculate cumulative length\n",
    "l = 0\n",
    "for j in jobs_sorted:\n",
    "    j.cumlength = l+j.length\n",
    "    l = l+j.length\n",
    "    \n",
    "    j.w_into_cumlength = j.weight * j.cumlength\n",
    "    \n",
    "    "
   ]
  },
  {
   "cell_type": "code",
   "execution_count": 71,
   "metadata": {},
   "outputs": [
    {
     "name": "stdout",
     "output_type": "stream",
     "text": [
      "69119377652\n"
     ]
    }
   ],
   "source": [
    "s = 0\n",
    "for j in jobs_sorted:\n",
    "    #print(j.weight,j.length,j.score,j.cumlength,j.w_into_cumlength)\n",
    "    s = s+j.w_into_cumlength\n",
    "print(s)"
   ]
  },
  {
   "cell_type": "code",
   "execution_count": null,
   "metadata": {
    "collapsed": true
   },
   "outputs": [],
   "source": []
  }
 ],
 "metadata": {
  "kernelspec": {
   "display_name": "Python 3",
   "language": "python",
   "name": "python3"
  },
  "language_info": {
   "codemirror_mode": {
    "name": "ipython",
    "version": 3
   },
   "file_extension": ".py",
   "mimetype": "text/x-python",
   "name": "python",
   "nbconvert_exporter": "python",
   "pygments_lexer": "ipython3",
   "version": "3.6.1"
  }
 },
 "nbformat": 4,
 "nbformat_minor": 2
}
