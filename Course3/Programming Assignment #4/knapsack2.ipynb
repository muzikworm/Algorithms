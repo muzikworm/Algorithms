{
 "cells": [
  {
   "cell_type": "code",
   "execution_count": 1,
   "metadata": {},
   "outputs": [
    {
     "name": "stdout",
     "output_type": "stream",
     "text": [
      "2000000 2000\n"
     ]
    }
   ],
   "source": [
    "values = []\n",
    "weights = []\n",
    "with open('knapsack_big.txt') as f:\n",
    "    W,N = [int(x) for x in f.readline().split()]\n",
    "    for x in f:\n",
    "        values.append(int(x.split()[0]))\n",
    "        weights.append(int(x.split()[1]))\n",
    "print(W,N)"
   ]
  },
  {
   "cell_type": "code",
   "execution_count": null,
   "metadata": {
    "collapsed": true
   },
   "outputs": [],
   "source": [
    "K = [[0 for x in range(W+1)] for x in range(N+1)]\n",
    "for i in range(N+1):\n",
    "        for w in range(W+1):\n",
    "            if i==0 or w==0:\n",
    "                K[i][w] = 0\n",
    "            elif weights[i-1] <= w:\n",
    "                K[i][w] = max(values[i-1] + K[i-1][w-weights[i-1]],  K[i-1][w])\n",
    "            else:\n",
    "                K[i][w] = K[i-1][w]\n",
    "print(K[N][W])"
   ]
  },
  {
   "cell_type": "code",
   "execution_count": null,
   "metadata": {
    "collapsed": true
   },
   "outputs": [],
   "source": []
  }
 ],
 "metadata": {
  "kernelspec": {
   "display_name": "Python 3",
   "language": "python",
   "name": "python3"
  },
  "language_info": {
   "codemirror_mode": {
    "name": "ipython",
    "version": 3
   },
   "file_extension": ".py",
   "mimetype": "text/x-python",
   "name": "python",
   "nbconvert_exporter": "python",
   "pygments_lexer": "ipython3",
   "version": "3.6.1"
  }
 },
 "nbformat": 4,
 "nbformat_minor": 2
}
