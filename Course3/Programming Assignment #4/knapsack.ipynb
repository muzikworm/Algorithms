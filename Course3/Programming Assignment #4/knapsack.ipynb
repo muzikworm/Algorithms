{
 "cells": [
  {
   "cell_type": "code",
   "execution_count": 75,
   "metadata": {
    "collapsed": true
   },
   "outputs": [],
   "source": [
    "values = []\n",
    "weights = []\n",
    "with open('knapsack1.txt') as f:\n",
    "    W,N = [int(x) for x in f.readline().split()]\n",
    "    for x in f:\n",
    "        values.append(int(x.split()[0]))\n",
    "        weights.append(int(x.split()[1]))"
   ]
  },
  {
   "cell_type": "code",
   "execution_count": 76,
   "metadata": {},
   "outputs": [
    {
     "name": "stdout",
     "output_type": "stream",
     "text": [
      "[16808, 50074, 8931, 27545, 77924, 64441, 84493, 7988, 82328, 78841, 44304, 17710, 29561, 93100, 51817, 99098, 13513, 23811, 80980, 36580, 11968, 1394, 25486, 25229, 40195, 35002, 16709, 15669, 88125, 9531, 27723, 28550, 97802, 40978, 8229, 60299, 28636, 23866, 39064, 39426, 24116, 75630, 46518, 30106, 19452, 82189, 99506, 6753, 36717, 54439, 51502, 83872, 11138, 53178, 22295, 21610, 59746, 53636, 98143, 27969, 261, 41595, 16396, 19114, 71007, 97943, 42083, 30768, 85696, 73672, 48591, 14739, 31617, 55641, 37336, 97973, 49096, 83455, 12290, 48906, 36124, 45814, 35239, 96221, 12367, 25227, 41364, 7845, 36551, 8624, 97386, 95273, 99248, 13497, 40624, 28145, 35736, 61626, 46043, 54680]\n"
     ]
    }
   ],
   "source": [
    "print(values)"
   ]
  },
  {
   "cell_type": "code",
   "execution_count": 77,
   "metadata": {},
   "outputs": [
    {
     "name": "stdout",
     "output_type": "stream",
     "text": [
      "[250, 659, 273, 879, 710, 166, 43, 504, 730, 613, 170, 158, 934, 279, 336, 827, 268, 634, 150, 822, 673, 337, 746, 92, 358, 154, 945, 491, 197, 904, 667, 25, 854, 409, 934, 982, 14, 815, 537, 670, 95, 502, 196, 405, 299, 124, 883, 567, 338, 145, 898, 829, 359, 398, 905, 232, 176, 299, 400, 413, 558, 9, 969, 531, 963, 366, 853, 822, 713, 902, 832, 58, 791, 680, 7, 99, 320, 224, 761, 127, 507, 771, 95, 845, 535, 395, 739, 591, 160, 948, 218, 540, 386, 886, 421, 969, 916, 535, 12, 153]\n"
     ]
    }
   ],
   "source": [
    "print(weights)"
   ]
  },
  {
   "cell_type": "code",
   "execution_count": 78,
   "metadata": {},
   "outputs": [
    {
     "name": "stdout",
     "output_type": "stream",
     "text": [
      "10000 100\n"
     ]
    }
   ],
   "source": [
    "print(W,N)"
   ]
  },
  {
   "cell_type": "code",
   "execution_count": 79,
   "metadata": {},
   "outputs": [
    {
     "name": "stdout",
     "output_type": "stream",
     "text": [
      "2493893\n"
     ]
    }
   ],
   "source": [
    "K = [[0 for x in range(W+1)] for x in range(N+1)]\n",
    "for i in range(N+1):\n",
    "        for w in range(W+1):\n",
    "            if i==0 or w==0:\n",
    "                K[i][w] = 0\n",
    "            elif weights[i-1] <= w:\n",
    "                K[i][w] = max(values[i-1] + K[i-1][w-weights[i-1]],  K[i-1][w])\n",
    "            else:\n",
    "                K[i][w] = K[i-1][w]\n",
    "print(K[N][W])"
   ]
  },
  {
   "cell_type": "code",
   "execution_count": null,
   "metadata": {
    "collapsed": true
   },
   "outputs": [],
   "source": []
  }
 ],
 "metadata": {
  "kernelspec": {
   "display_name": "Python 3",
   "language": "python",
   "name": "python3"
  },
  "language_info": {
   "codemirror_mode": {
    "name": "ipython",
    "version": 3
   },
   "file_extension": ".py",
   "mimetype": "text/x-python",
   "name": "python",
   "nbconvert_exporter": "python",
   "pygments_lexer": "ipython3",
   "version": "3.6.1"
  }
 },
 "nbformat": 4,
 "nbformat_minor": 2
}
