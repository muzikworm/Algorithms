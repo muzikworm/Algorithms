{
 "cells": [
  {
   "cell_type": "code",
   "execution_count": 351,
   "metadata": {},
   "outputs": [],
   "source": [
    "weights = {}\n",
    "i=0\n",
    "with open('huffman.txt') as f:\n",
    "    n = int(f.readline())\n",
    "    for x in f:\n",
    "        weights[int(x)] = int(i)\n",
    "        i =i +1"
   ]
  },
  {
   "cell_type": "code",
   "execution_count": 373,
   "metadata": {},
   "outputs": [
    {
     "name": "stdout",
     "output_type": "stream",
     "text": [
      "1\n"
     ]
    }
   ],
   "source": [
    "while len(weights) > 1:\n",
    "    weight = sorted(weights)\n",
    "    #print(weight)\n",
    "    w = weight[0] + weight[1]\n",
    "    p = [weights[weight[0]], weights[weight[1]]]\n",
    "    del weights[weight[0]]\n",
    "    del weights[weight[1]]\n",
    "    weights[w] = p\n",
    "print(len(weights))"
   ]
  },
  {
   "cell_type": "code",
   "execution_count": 378,
   "metadata": {},
   "outputs": [
    {
     "name": "stdout",
     "output_type": "stream",
     "text": [
      "19\n"
     ]
    }
   ],
   "source": [
    "def max_depth(mergered):\n",
    "    #print(mergered)\n",
    "    if mergered.__class__ == int:\n",
    "        return -1\n",
    "    \n",
    "    return (1+max(max_depth(x) for x in mergered))\n",
    "\n",
    "        \n",
    "print(max_depth(weights.values()))"
   ]
  },
  {
   "cell_type": "code",
   "execution_count": 377,
   "metadata": {},
   "outputs": [
    {
     "name": "stdout",
     "output_type": "stream",
     "text": [
      "min\n",
      "9\n"
     ]
    }
   ],
   "source": [
    "def min_depth(mergered):\n",
    "    #print(mergered)\n",
    "    print('min')\n",
    "    if mergered.__class__ == int:\n",
    "        return 0\n",
    "    \n",
    "    return (1+min(max_depth(x) for x in mergered))\n",
    "\n",
    "        \n",
    "print(min_depth(weights.values()))"
   ]
  },
  {
   "cell_type": "code",
   "execution_count": null,
   "metadata": {
    "collapsed": true
   },
   "outputs": [],
   "source": []
  }
 ],
 "metadata": {
  "kernelspec": {
   "display_name": "Python 3",
   "language": "python",
   "name": "python3"
  },
  "language_info": {
   "codemirror_mode": {
    "name": "ipython",
    "version": 3
   },
   "file_extension": ".py",
   "mimetype": "text/x-python",
   "name": "python",
   "nbconvert_exporter": "python",
   "pygments_lexer": "ipython3",
   "version": "3.6.1"
  }
 },
 "nbformat": 4,
 "nbformat_minor": 2
}
