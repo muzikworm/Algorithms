{
 "cells": [
  {
   "cell_type": "code",
   "execution_count": 175,
   "metadata": {},
   "outputs": [],
   "source": [
    "#create graph from file\n",
    "graph = {}\n",
    "graph_rev = {}\n",
    "with open('SCC.txt') as f:\n",
    "    for line in f:\n",
    "        c,d = line.split()\n",
    "        a = int(c)\n",
    "        b = int(d)\n",
    "        if a in graph:\n",
    "            graph[a].append(b)\n",
    "        else:\n",
    "            graph[a] = [b]\n",
    "\n",
    "        if b in graph_rev:\n",
    "            graph_rev[b].append(a)\n",
    "        else:\n",
    "            graph_rev[b] = [a]\n"
   ]
  },
  {
   "cell_type": "code",
   "execution_count": 176,
   "metadata": {},
   "outputs": [
    {
     "name": "stdout",
     "output_type": "stream",
     "text": [
      "875714\n"
     ]
    }
   ],
   "source": [
    "print(max(graph.keys()))"
   ]
  },
  {
   "cell_type": "code",
   "execution_count": 177,
   "metadata": {},
   "outputs": [],
   "source": [
    "for i in range(1,875715):\n",
    "    if i not in graph.keys():\n",
    "        graph[i] = []\n",
    "    if i not in graph_rev.keys():\n",
    "        graph_rev[i] = []"
   ]
  },
  {
   "cell_type": "code",
   "execution_count": 212,
   "metadata": {
    "collapsed": true
   },
   "outputs": [],
   "source": [
    "def DFS(v,visited,cc):\n",
    "    stack=[v]\n",
    "    while len(stack) != 0:\n",
    "        s = stack.pop()\n",
    "        if visited[s] == 0:\n",
    "            #print(s)\n",
    "            cc.append(s)\n",
    "            visited[s] = 1\n",
    "        if graph_rev[s] != []:\n",
    "            for t in graph_rev[s]:\n",
    "                if visited[t] == 0:\n",
    "                    stack.append(t)\n",
    "    #print(cc)\n",
    "        "
   ]
  },
  {
   "cell_type": "code",
   "execution_count": 213,
   "metadata": {
    "collapsed": true
   },
   "outputs": [],
   "source": [
    "def fill_order(v,visited,st):\n",
    "    stack=[v]\n",
    "    st.append(v)\n",
    "    while len(stack) != 0:\n",
    "        s = stack.pop()\n",
    "        if visited[s] == 0:\n",
    "            #print(s)\n",
    "            visited[s] = 1\n",
    "        if graph[s] != []:\n",
    "            for t in graph[s]:\n",
    "                if visited[t] == 0:\n",
    "                    stack.append(t)\n",
    "                    st.append(t)"
   ]
  },
  {
   "cell_type": "code",
   "execution_count": 214,
   "metadata": {
    "collapsed": true
   },
   "outputs": [],
   "source": [
    "def scc():\n",
    "    s = []\n",
    "    visited = [0]*875715\n",
    "    for i in graph.keys():\n",
    "        if visited[i] == 0:\n",
    "            fill_order(i,visited,s)\n",
    "    visited = [0]*875715\n",
    "    \n",
    "    #print(len(s))\n",
    "    cc_size =[]\n",
    "    while len(s)!= 0:\n",
    "        ver = s.pop()\n",
    "        cc = []\n",
    "        if visited[ver] == 0:\n",
    "            DFS(ver,visited,cc)\n",
    "        #print(cc)\n",
    "        cc_size.append(len(cc))\n",
    "    return cc_size"
   ]
  },
  {
   "cell_type": "code",
   "execution_count": 215,
   "metadata": {},
   "outputs": [],
   "source": [
    "cc_size = scc()"
   ]
  },
  {
   "cell_type": "code",
   "execution_count": 216,
   "metadata": {},
   "outputs": [
    {
     "name": "stdout",
     "output_type": "stream",
     "text": [
      "434821\n"
     ]
    }
   ],
   "source": [
    "print(max(cc_size))"
   ]
  },
  {
   "cell_type": "code",
   "execution_count": 217,
   "metadata": {
    "collapsed": true
   },
   "outputs": [],
   "source": [
    "cc_size.remove(434821)"
   ]
  },
  {
   "cell_type": "code",
   "execution_count": 219,
   "metadata": {},
   "outputs": [
    {
     "name": "stdout",
     "output_type": "stream",
     "text": [
      "968\n"
     ]
    }
   ],
   "source": [
    "print(max(cc_size))"
   ]
  },
  {
   "cell_type": "code",
   "execution_count": 220,
   "metadata": {},
   "outputs": [
    {
     "name": "stdout",
     "output_type": "stream",
     "text": [
      "459\n"
     ]
    }
   ],
   "source": [
    "cc_size.remove(968)\n",
    "print(max(cc_size))"
   ]
  },
  {
   "cell_type": "code",
   "execution_count": 221,
   "metadata": {},
   "outputs": [
    {
     "name": "stdout",
     "output_type": "stream",
     "text": [
      "316\n"
     ]
    }
   ],
   "source": [
    "cc_size.remove(459)\n",
    "print(max(cc_size))"
   ]
  },
  {
   "cell_type": "code",
   "execution_count": 222,
   "metadata": {},
   "outputs": [
    {
     "name": "stdout",
     "output_type": "stream",
     "text": [
      "211\n"
     ]
    }
   ],
   "source": [
    "cc_size.remove(316)\n",
    "print(max(cc_size))"
   ]
  },
  {
   "cell_type": "code",
   "execution_count": null,
   "metadata": {
    "collapsed": true
   },
   "outputs": [],
   "source": []
  }
 ],
 "metadata": {
  "kernelspec": {
   "display_name": "Python 3",
   "language": "python",
   "name": "python3"
  },
  "language_info": {
   "codemirror_mode": {
    "name": "ipython",
    "version": 3
   },
   "file_extension": ".py",
   "mimetype": "text/x-python",
   "name": "python",
   "nbconvert_exporter": "python",
   "pygments_lexer": "ipython3",
   "version": "3.6.1"
  }
 },
 "nbformat": 4,
 "nbformat_minor": 2
}
